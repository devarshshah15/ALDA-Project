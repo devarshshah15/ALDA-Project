{
  "nbformat": 4,
  "nbformat_minor": 0,
  "metadata": {
    "colab": {
      "name": "ALS",
      "provenance": [],
      "collapsed_sections": []
    },
    "kernelspec": {
      "display_name": "Python 3",
      "name": "python3"
    }
  },
  "cells": [
    {
      "cell_type": "code",
      "metadata": {
        "id": "mXbwyPaznoeQ"
      },
      "source": [
        "import pandas as pd\n",
        "import numpy as np"
      ],
      "execution_count": null,
      "outputs": []
    },
    {
      "cell_type": "code",
      "metadata": {
        "id": "dNvU7QGcCrfv"
      },
      "source": [
        "df = pd.read_csv('combined_data_1.txt', header = None, names = ['user_id', 'rating', 'timestamp'], usecols = [0,1,2])"
      ],
      "execution_count": null,
      "outputs": []
    },
    {
      "cell_type": "code",
      "metadata": {
        "id": "FuY219wDDLEe"
      },
      "source": [
        "# appending movie column \n",
        "df_nan = pd.DataFrame(pd.isnull(df.rating))\n",
        "df_nan = df_nan[df_nan['rating'] == True]\n",
        "df_nan = df_nan.reset_index()\n",
        "\n",
        "movie_np,movie_id = [],1\n",
        "\n",
        "\n",
        "for i,j in zip(df_nan['index'][1:],df_nan['index'][:-1]):\n",
        "    temp = np.full((1,i-j-1), movie_id)\n",
        "    movie_np = np.append(movie_np, temp)\n",
        "    movie_id += 1\n",
        "\n",
        "last_record = np.full((1,len(df) - df_nan.iloc[-1, 0] - 1),movie_id)\n",
        "movie_np = np.append(movie_np, last_record)"
      ],
      "execution_count": null,
      "outputs": []
    },
    {
      "cell_type": "code",
      "metadata": {
        "id": "MI2yJ9yqDMtN",
        "outputId": "ab3b9cee-f660-4c6a-ea9b-5bec8d31255d",
        "colab": {
          "base_uri": "https://localhost:8080/",
          "height": 204
        }
      },
      "source": [
        "df= df[pd.notnull(df['rating'])]\n",
        "\n",
        "df['item_id'] = movie_np.astype(int)\n",
        "df['user_id'] = df['user_id'].astype(str)\n",
        "\n",
        "df.reset_index(inplace=True)\n",
        "del df[\"index\"]\n",
        "df = df[[\"user_id\", \"item_id\", \"rating\", \"timestamp\"]]\n",
        "df.head()"
      ],
      "execution_count": null,
      "outputs": [
        {
          "output_type": "execute_result",
          "data": {
            "text/html": [
              "<div>\n",
              "<style scoped>\n",
              "    .dataframe tbody tr th:only-of-type {\n",
              "        vertical-align: middle;\n",
              "    }\n",
              "\n",
              "    .dataframe tbody tr th {\n",
              "        vertical-align: top;\n",
              "    }\n",
              "\n",
              "    .dataframe thead th {\n",
              "        text-align: right;\n",
              "    }\n",
              "</style>\n",
              "<table border=\"1\" class=\"dataframe\">\n",
              "  <thead>\n",
              "    <tr style=\"text-align: right;\">\n",
              "      <th></th>\n",
              "      <th>user_id</th>\n",
              "      <th>item_id</th>\n",
              "      <th>rating</th>\n",
              "      <th>timestamp</th>\n",
              "    </tr>\n",
              "  </thead>\n",
              "  <tbody>\n",
              "    <tr>\n",
              "      <th>0</th>\n",
              "      <td>1488844</td>\n",
              "      <td>1</td>\n",
              "      <td>3.0</td>\n",
              "      <td>2005-09-06</td>\n",
              "    </tr>\n",
              "    <tr>\n",
              "      <th>1</th>\n",
              "      <td>822109</td>\n",
              "      <td>1</td>\n",
              "      <td>5.0</td>\n",
              "      <td>2005-05-13</td>\n",
              "    </tr>\n",
              "    <tr>\n",
              "      <th>2</th>\n",
              "      <td>885013</td>\n",
              "      <td>1</td>\n",
              "      <td>4.0</td>\n",
              "      <td>2005-10-19</td>\n",
              "    </tr>\n",
              "    <tr>\n",
              "      <th>3</th>\n",
              "      <td>30878</td>\n",
              "      <td>1</td>\n",
              "      <td>4.0</td>\n",
              "      <td>2005-12-26</td>\n",
              "    </tr>\n",
              "    <tr>\n",
              "      <th>4</th>\n",
              "      <td>823519</td>\n",
              "      <td>1</td>\n",
              "      <td>3.0</td>\n",
              "      <td>2004-05-03</td>\n",
              "    </tr>\n",
              "  </tbody>\n",
              "</table>\n",
              "</div>"
            ],
            "text/plain": [
              "   user_id  item_id  rating   timestamp\n",
              "0  1488844        1     3.0  2005-09-06\n",
              "1   822109        1     5.0  2005-05-13\n",
              "2   885013        1     4.0  2005-10-19\n",
              "3    30878        1     4.0  2005-12-26\n",
              "4   823519        1     3.0  2004-05-03"
            ]
          },
          "metadata": {
            "tags": []
          },
          "execution_count": 6
        }
      ]
    },
    {
      "cell_type": "code",
      "metadata": {
        "id": "1a6B208tDfja"
      },
      "source": [
        "cate = pd.factorize( df[\"user_id\"])[0]"
      ],
      "execution_count": null,
      "outputs": []
    },
    {
      "cell_type": "code",
      "metadata": {
        "id": "-ffHSSdWDgoZ"
      },
      "source": [
        "df[\"user_id\"] = cate"
      ],
      "execution_count": null,
      "outputs": []
    },
    {
      "cell_type": "code",
      "metadata": {
        "id": "8s2oEySLD9zh",
        "outputId": "945355bc-34cf-4b5e-f6bc-9eda98893536",
        "colab": {
          "base_uri": "https://localhost:8080/",
          "height": 204
        }
      },
      "source": [
        "df.head()"
      ],
      "execution_count": null,
      "outputs": [
        {
          "output_type": "execute_result",
          "data": {
            "text/html": [
              "<div>\n",
              "<style scoped>\n",
              "    .dataframe tbody tr th:only-of-type {\n",
              "        vertical-align: middle;\n",
              "    }\n",
              "\n",
              "    .dataframe tbody tr th {\n",
              "        vertical-align: top;\n",
              "    }\n",
              "\n",
              "    .dataframe thead th {\n",
              "        text-align: right;\n",
              "    }\n",
              "</style>\n",
              "<table border=\"1\" class=\"dataframe\">\n",
              "  <thead>\n",
              "    <tr style=\"text-align: right;\">\n",
              "      <th></th>\n",
              "      <th>user_id</th>\n",
              "      <th>item_id</th>\n",
              "      <th>rating</th>\n",
              "      <th>timestamp</th>\n",
              "    </tr>\n",
              "  </thead>\n",
              "  <tbody>\n",
              "    <tr>\n",
              "      <th>0</th>\n",
              "      <td>0</td>\n",
              "      <td>1</td>\n",
              "      <td>3.0</td>\n",
              "      <td>2005-09-06</td>\n",
              "    </tr>\n",
              "    <tr>\n",
              "      <th>1</th>\n",
              "      <td>1</td>\n",
              "      <td>1</td>\n",
              "      <td>5.0</td>\n",
              "      <td>2005-05-13</td>\n",
              "    </tr>\n",
              "    <tr>\n",
              "      <th>2</th>\n",
              "      <td>2</td>\n",
              "      <td>1</td>\n",
              "      <td>4.0</td>\n",
              "      <td>2005-10-19</td>\n",
              "    </tr>\n",
              "    <tr>\n",
              "      <th>3</th>\n",
              "      <td>3</td>\n",
              "      <td>1</td>\n",
              "      <td>4.0</td>\n",
              "      <td>2005-12-26</td>\n",
              "    </tr>\n",
              "    <tr>\n",
              "      <th>4</th>\n",
              "      <td>4</td>\n",
              "      <td>1</td>\n",
              "      <td>3.0</td>\n",
              "      <td>2004-05-03</td>\n",
              "    </tr>\n",
              "  </tbody>\n",
              "</table>\n",
              "</div>"
            ],
            "text/plain": [
              "   user_id  item_id  rating   timestamp\n",
              "0        0        1     3.0  2005-09-06\n",
              "1        1        1     5.0  2005-05-13\n",
              "2        2        1     4.0  2005-10-19\n",
              "3        3        1     4.0  2005-12-26\n",
              "4        4        1     3.0  2004-05-03"
            ]
          },
          "metadata": {
            "tags": []
          },
          "execution_count": 9
        }
      ]
    },
    {
      "cell_type": "code",
      "metadata": {
        "id": "3KLrh70HS8eP",
        "outputId": "91d5642e-4b24-4041-b592-5f5877c9e413",
        "colab": {
          "base_uri": "https://localhost:8080/"
        }
      },
      "source": [
        "df.shape"
      ],
      "execution_count": null,
      "outputs": [
        {
          "output_type": "execute_result",
          "data": {
            "text/plain": [
              "(699813, 4)"
            ]
          },
          "metadata": {
            "tags": []
          },
          "execution_count": 10
        }
      ]
    },
    {
      "cell_type": "code",
      "metadata": {
        "id": "aV7OKgU0EDw4",
        "outputId": "b21c44d9-9aba-43bf-ff83-bae21a66b363",
        "colab": {
          "base_uri": "https://localhost:8080/"
        }
      },
      "source": [
        "\n",
        "n_users = df.user_id.unique().shape[0]\n",
        "n_items = df.item_id.unique().shape[0]\n",
        "ratings = np.zeros((n_users, n_items))\n",
        "len(ratings)\n",
        "for row in df.itertuples():\n",
        "    ratings[row[1]-1, row[2]-1] = row[3]\n",
        "ratings\n",
        "\n"
      ],
      "execution_count": null,
      "outputs": [
        {
          "output_type": "execute_result",
          "data": {
            "text/plain": [
              "array([[5., 0., 0., ..., 0., 0., 0.],\n",
              "       [4., 0., 0., ..., 0., 0., 0.],\n",
              "       [4., 0., 0., ..., 0., 0., 0.],\n",
              "       ...,\n",
              "       [0., 0., 0., ..., 0., 0., 4.],\n",
              "       [0., 0., 0., ..., 0., 0., 5.],\n",
              "       [3., 0., 0., ..., 0., 0., 2.]])"
            ]
          },
          "metadata": {
            "tags": []
          },
          "execution_count": 11
        }
      ]
    },
    {
      "cell_type": "code",
      "metadata": {
        "id": "lY7pPLzTEtn6"
      },
      "source": [
        "def train_test_split(ratings):\n",
        "    test = np.zeros(ratings.shape)\n",
        "    train = ratings.copy()\n",
        "    for user in range(ratings.shape[0]):\n",
        "        test_ratings = np.random.choice(ratings[user, :].nonzero()[0], \n",
        "                                        size=10)\n",
        "        train[user, test_ratings] = 0.\n",
        "        test[user, test_ratings] = ratings[user, test_ratings]\n",
        "        \n",
        "    # Test and training are truly disjoint\n",
        "    assert(np.all((train * test) == 0)) \n",
        "    return train, test"
      ],
      "execution_count": null,
      "outputs": []
    },
    {
      "cell_type": "code",
      "metadata": {
        "id": "YT4lncYZExTc"
      },
      "source": [
        "train, test = train_test_split(ratings)"
      ],
      "execution_count": null,
      "outputs": []
    },
    {
      "cell_type": "code",
      "metadata": {
        "id": "zxnKKgDYEzCE"
      },
      "source": [
        "### source : https://blog.insightdatascience.com/explicit-matrix-factorization-als-sgd-and-all-that-jazz-b00e4d9b21ea\n",
        "\n",
        "from numpy.linalg import solve\n",
        "\n",
        "class ExplicitMF():\n",
        "    def __init__(self, \n",
        "                 ratings, \n",
        "                 n_factors=40, \n",
        "                 item_reg=0.0, \n",
        "                 user_reg=0.0,\n",
        "                 verbose=False):\n",
        "        \"\"\"\n",
        "        Train a matrix factorization model to predict empty \n",
        "        entries in a matrix. The terminology assumes a \n",
        "        ratings matrix which is ~ user x item\n",
        "        \n",
        "        Params\n",
        "        ======\n",
        "        ratings : (ndarray)\n",
        "            User x Item matrix with corresponding ratings\n",
        "        \n",
        "        n_factors : (int)\n",
        "            Number of latent factors to use in matrix \n",
        "            factorization model\n",
        "        \n",
        "        item_reg : (float)\n",
        "            Regularization term for item latent factors\n",
        "        \n",
        "        user_reg : (float)\n",
        "            Regularization term for user latent factors\n",
        "        \n",
        "        verbose : (bool)\n",
        "            Whether or not to printout training progress\n",
        "        \"\"\"\n",
        "        \n",
        "        self.ratings = ratings\n",
        "        self.n_users, self.n_items = ratings.shape\n",
        "        self.n_factors = n_factors\n",
        "        self.item_reg = item_reg\n",
        "        self.user_reg = user_reg\n",
        "        self._v = verbose\n",
        "\n",
        "    def als_step(self,\n",
        "                 latent_vectors,\n",
        "                 fixed_vecs,\n",
        "                 ratings,\n",
        "                 _lambda,\n",
        "                 type='user'):\n",
        "        \"\"\"\n",
        "        One of the two ALS steps. Solve for the latent vectors\n",
        "        specified by type.\n",
        "        \"\"\"\n",
        "        if type == 'user':\n",
        "            # Precompute\n",
        "            YTY = fixed_vecs.T.dot(fixed_vecs)\n",
        "            lambdaI = np.eye(YTY.shape[0]) * _lambda\n",
        "\n",
        "            for u in range(latent_vectors.shape[0]):\n",
        "                latent_vectors[u, :] = solve((YTY + lambdaI), \n",
        "                                             ratings[u, :].dot(fixed_vecs))\n",
        "        elif type == 'item':\n",
        "            # Precompute\n",
        "            XTX = fixed_vecs.T.dot(fixed_vecs)\n",
        "            lambdaI = np.eye(XTX.shape[0]) * _lambda\n",
        "            \n",
        "            for i in range(latent_vectors.shape[0]):\n",
        "                latent_vectors[i, :] = solve((XTX + lambdaI), \n",
        "                                             ratings[:, i].T.dot(fixed_vecs))\n",
        "        return latent_vectors\n",
        "\n",
        "    def train(self, n_iter=10):\n",
        "        \"\"\" Train model for n_iter iterations from scratch.\"\"\"\n",
        "        # initialize latent vectors\n",
        "        self.user_vecs = np.random.random((self.n_users, self.n_factors))\n",
        "        self.item_vecs = np.random.random((self.n_items, self.n_factors))\n",
        "        \n",
        "        self.partial_train(n_iter)\n",
        "    \n",
        "    def partial_train(self, n_iter):\n",
        "        \"\"\" \n",
        "        Train model for n_iter iterations. Can be \n",
        "        called multiple times for further training.\n",
        "        \"\"\"\n",
        "        ctr = 1\n",
        "        while ctr <= n_iter:\n",
        "            if ctr % 10 == 0 and self._v:\n",
        "                print ('\\tcurrent iteration: {}'.format(ctr))\n",
        "            self.user_vecs = self.als_step(self.user_vecs, \n",
        "                                           self.item_vecs, \n",
        "                                           self.ratings, \n",
        "                                           self.user_reg, \n",
        "                                           type='user')\n",
        "            self.item_vecs = self.als_step(self.item_vecs, \n",
        "                                           self.user_vecs, \n",
        "                                           self.ratings, \n",
        "                                           self.item_reg, \n",
        "                                           type='item')\n",
        "            ctr += 1\n",
        "    \n",
        "    def predict_all(self):\n",
        "        \"\"\" Predict ratings for every user and item. \"\"\"\n",
        "        predictions = np.zeros((self.user_vecs.shape[0], \n",
        "                                self.item_vecs.shape[0]))\n",
        "        for u in range(self.user_vecs.shape[0]):\n",
        "            for i in range(self.item_vecs.shape[0]):\n",
        "                predictions[u, i] = self.predict(u, i)\n",
        "                \n",
        "        return predictions\n",
        "    def predict(self, u, i):\n",
        "        \"\"\" Single user and item prediction. \"\"\"\n",
        "        return self.user_vecs[u, :].dot(self.item_vecs[i, :].T)\n",
        "    \n",
        "    def calculate_learning_curve(self, iter_array, test):\n",
        "        \"\"\"\n",
        "        Keep track of MSE as a function of training iterations.\n",
        "        \n",
        "        Params\n",
        "        ======\n",
        "        iter_array : (list)\n",
        "            List of numbers of iterations to train for each step of \n",
        "            the learning curve. e.g. [1, 5, 10, 20]\n",
        "        test : (2D ndarray)\n",
        "            Testing dataset (assumed to be user x item).\n",
        "        \n",
        "        The function creates two new class attributes:\n",
        "        \n",
        "        train_mse : (list)\n",
        "            Training data MSE values for each value of iter_array\n",
        "        test_mse : (list)\n",
        "            Test data MSE values for each value of iter_array\n",
        "        \"\"\"\n",
        "        iter_array.sort()\n",
        "        self.train_mse =[]\n",
        "        self.test_mse = []\n",
        "        iter_diff = 0\n",
        "        for (i, n_iter) in enumerate(iter_array):\n",
        "            if self._v:\n",
        "                print ('Iteration: {}'.format(n_iter))\n",
        "            if i == 0:\n",
        "                self.train(n_iter - iter_diff)\n",
        "            else:\n",
        "                self.partial_train(n_iter - iter_diff)\n",
        "\n",
        "            predictions = self.predict_all()\n",
        "\n",
        "            self.train_mse += [get_mse(predictions, self.ratings)]\n",
        "            self.test_mse += [get_mse(predictions, test)]\n",
        "            if self._v:\n",
        "                print ('Train mse: ' + str(self.train_mse[-1]))\n",
        "                print ('Test mse: ' + str(self.test_mse[-1]))\n",
        "            iter_diff = n_iter"
      ],
      "execution_count": null,
      "outputs": []
    },
    {
      "cell_type": "code",
      "metadata": {
        "id": "mSeefK9zFPDd"
      },
      "source": [
        "from sklearn.metrics import mean_squared_error\n",
        "\n",
        "def get_mse(pred, actual):\n",
        "    # Ignore nonzero terms.\n",
        "    pred = pred[actual.nonzero()].flatten()\n",
        "    actual = actual[actual.nonzero()].flatten()\n",
        "    return mean_squared_error(pred, actual)"
      ],
      "execution_count": null,
      "outputs": []
    },
    {
      "cell_type": "code",
      "metadata": {
        "id": "KqQOXpGEFaI8",
        "outputId": "bbf16598-7395-4063-8870-d8685e7af5ec",
        "colab": {
          "base_uri": "https://localhost:8080/",
          "height": 53
        }
      },
      "source": [
        "'''\n",
        "MF_ALS = ExplicitMF(train, n_factors=40, \\\n",
        "                    user_reg=0.0, item_reg=0.0)\n",
        "iter_array = [1, 2, 5, 10, 25]\n",
        "MF_ALS.calculate_learning_curve(iter_array, test)\n",
        "'''"
      ],
      "execution_count": null,
      "outputs": [
        {
          "output_type": "execute_result",
          "data": {
            "application/vnd.google.colaboratory.intrinsic+json": {
              "type": "string"
            },
            "text/plain": [
              "'\\nMF_ALS = ExplicitMF(train, n_factors=40,                     user_reg=0.0, item_reg=0.0)\\niter_array = [1, 2, 5, 10, 25]\\nMF_ALS.calculate_learning_curve(iter_array, test)\\n'"
            ]
          },
          "metadata": {
            "tags": []
          },
          "execution_count": 15
        }
      ]
    },
    {
      "cell_type": "code",
      "metadata": {
        "id": "0a-r6mRpFcqU"
      },
      "source": [
        "\n",
        "%matplotlib inline\n",
        "import matplotlib.pyplot as plt\n",
        "import seaborn as sns\n",
        "sns.set()\n",
        "\n",
        "def plot_learning_curve(iter_array, model):\n",
        "    plt.plot(iter_array, model.train_mse, \\\n",
        "             label='Training', linewidth=5)\n",
        "    plt.plot(iter_array, model.test_mse, \\\n",
        "             label='Test', linewidth=5)\n",
        "\n",
        "\n",
        "    plt.xticks(fontsize=16);\n",
        "    plt.yticks(fontsize=16);\n",
        "    plt.xlabel('iterations', fontsize=30);\n",
        "    plt.ylabel('MSE', fontsize=30);\n",
        "    plt.legend(loc='best', fontsize=20);\n"
      ],
      "execution_count": null,
      "outputs": []
    },
    {
      "cell_type": "code",
      "metadata": {
        "id": "NYGdrwD2KDtW"
      },
      "source": [
        "class ExplicitMF():\n",
        "    def __init__(self, \n",
        "                 ratings,\n",
        "                 n_factors=40,\n",
        "                 learning='sgd',\n",
        "                 item_fact_reg=0.0, \n",
        "                 user_fact_reg=0.0,\n",
        "                 item_bias_reg=0.0,\n",
        "                 user_bias_reg=0.0,\n",
        "                 verbose=False):\n",
        "        \"\"\"\n",
        "        Train a matrix factorization model to predict empty \n",
        "        entries in a matrix. The terminology assumes a \n",
        "        ratings matrix which is ~ user x item\n",
        "        \n",
        "        Params\n",
        "        ======\n",
        "        ratings : (ndarray)\n",
        "            User x Item matrix with corresponding ratings\n",
        "        \n",
        "        n_factors : (int)\n",
        "            Number of latent factors to use in matrix \n",
        "            factorization model\n",
        "        learning : (str)\n",
        "            Method of optimization. Options include \n",
        "            'sgd' or 'als'.\n",
        "        \n",
        "        item_fact_reg : (float)\n",
        "            Regularization term for item latent factors\n",
        "        \n",
        "        user_fact_reg : (float)\n",
        "            Regularization term for user latent factors\n",
        "            \n",
        "        item_bias_reg : (float)\n",
        "            Regularization term for item biases\n",
        "        \n",
        "        user_bias_reg : (float)\n",
        "            Regularization term for user biases\n",
        "        \n",
        "        verbose : (bool)\n",
        "            Whether or not to printout training progress\n",
        "        \"\"\"\n",
        "        \n",
        "        self.ratings = ratings\n",
        "        self.n_users, self.n_items = ratings.shape\n",
        "        self.n_factors = n_factors\n",
        "        self.item_fact_reg = item_fact_reg\n",
        "        self.user_fact_reg = user_fact_reg\n",
        "        self.item_bias_reg = item_bias_reg\n",
        "        self.user_bias_reg = user_bias_reg\n",
        "        self.learning = learning\n",
        "        if self.learning == 'sgd':\n",
        "            self.sample_row, self.sample_col = self.ratings.nonzero()\n",
        "            self.n_samples = len(self.sample_row)\n",
        "        self._v = verbose\n",
        "\n",
        "    def als_step(self,\n",
        "                 latent_vectors,\n",
        "                 fixed_vecs,\n",
        "                 ratings,\n",
        "                 _lambda,\n",
        "                 type='user'):\n",
        "        \"\"\"\n",
        "        One of the two ALS steps. Solve for the latent vectors\n",
        "        specified by type.\n",
        "        \"\"\"\n",
        "        if type == 'user':\n",
        "            # Precompute\n",
        "            YTY = fixed_vecs.T.dot(fixed_vecs)\n",
        "            lambdaI = np.eye(YTY.shape[0]) * _lambda\n",
        "\n",
        "            for u in range(latent_vectors.shape[0]):\n",
        "                latent_vectors[u, :] = solve((YTY + lambdaI), \n",
        "                                             ratings[u, :].dot(fixed_vecs))\n",
        "        elif type == 'item':\n",
        "            # Precompute\n",
        "            XTX = fixed_vecs.T.dot(fixed_vecs)\n",
        "            lambdaI = np.eye(XTX.shape[0]) * _lambda\n",
        "            \n",
        "            for i in range(latent_vectors.shape[0]):\n",
        "                latent_vectors[i, :] = solve((XTX + lambdaI), \n",
        "                                             ratings[:, i].T.dot(fixed_vecs))\n",
        "        return latent_vectors\n",
        "\n",
        "    def train(self, n_iter=10, learning_rate=0.1):\n",
        "        \"\"\" Train model for n_iter iterations from scratch.\"\"\"\n",
        "        # initialize latent vectors        \n",
        "        self.user_vecs = np.random.normal(scale=1./self.n_factors,\\\n",
        "                                          size=(self.n_users, self.n_factors))\n",
        "        self.item_vecs = np.random.normal(scale=1./self.n_factors,\n",
        "                                          size=(self.n_items, self.n_factors))\n",
        "        \n",
        "        if self.learning == 'als':\n",
        "            self.partial_train(n_iter)\n",
        "        elif self.learning == 'sgd':\n",
        "            self.learning_rate = learning_rate\n",
        "            self.user_bias = np.zeros(self.n_users)\n",
        "            self.item_bias = np.zeros(self.n_items)\n",
        "            self.global_bias = np.mean(self.ratings[np.where(self.ratings != 0)])\n",
        "            self.partial_train(n_iter)\n",
        "    \n",
        "    \n",
        "    def partial_train(self, n_iter):\n",
        "        \"\"\" \n",
        "        Train model for n_iter iterations. Can be \n",
        "        called multiple times for further training.\n",
        "        \"\"\"\n",
        "        ctr = 1\n",
        "        while ctr <= n_iter:\n",
        "            if ctr % 10 == 0 and self._v:\n",
        "                print ('\\tcurrent iteration: {}'.format(ctr))\n",
        "            if self.learning == 'als':\n",
        "                self.user_vecs = self.als_step(self.user_vecs, \n",
        "                                               self.item_vecs, \n",
        "                                               self.ratings, \n",
        "                                               self.user_fact_reg, \n",
        "                                               type='user')\n",
        "                self.item_vecs = self.als_step(self.item_vecs, \n",
        "                                               self.user_vecs, \n",
        "                                               self.ratings, \n",
        "                                               self.item_fact_reg, \n",
        "                                               type='item')\n",
        "            elif self.learning == 'sgd':\n",
        "                self.training_indices = np.arange(self.n_samples)\n",
        "                np.random.shuffle(self.training_indices)\n",
        "                self.sgd()\n",
        "            ctr += 1\n",
        "\n",
        "    def sgd(self):\n",
        "        for idx in self.training_indices:\n",
        "            u = self.sample_row[idx]\n",
        "            i = self.sample_col[idx]\n",
        "            prediction = self.predict(u, i)\n",
        "            e = (self.ratings[u,i] - prediction) # error\n",
        "            \n",
        "            # Update biases\n",
        "            self.user_bias[u] += self.learning_rate * \\\n",
        "                                (e - self.user_bias_reg * self.user_bias[u])\n",
        "            self.item_bias[i] += self.learning_rate * \\\n",
        "                                (e - self.item_bias_reg * self.item_bias[i])\n",
        "            \n",
        "            #Update latent factors\n",
        "            self.user_vecs[u, :] += self.learning_rate * \\\n",
        "                                    (e * self.item_vecs[i, :] - \\\n",
        "                                     self.user_fact_reg * self.user_vecs[u,:])\n",
        "            self.item_vecs[i, :] += self.learning_rate * \\\n",
        "                                    (e * self.user_vecs[u, :] - \\\n",
        "                                     self.item_fact_reg * self.item_vecs[i,:])\n",
        "    def predict(self, u, i):\n",
        "        \"\"\" Single user and item prediction.\"\"\"\n",
        "        if self.learning == 'als':\n",
        "            return self.user_vecs[u, :].dot(self.item_vecs[i, :].T)\n",
        "        elif self.learning == 'sgd':\n",
        "            prediction = self.global_bias + self.user_bias[u] + self.item_bias[i]\n",
        "            prediction += self.user_vecs[u, :].dot(self.item_vecs[i, :].T)\n",
        "            return prediction\n",
        "    \n",
        "    def predict_all(self):\n",
        "        \"\"\" Predict ratings for every user and item.\"\"\"\n",
        "        predictions = np.zeros((self.user_vecs.shape[0], \n",
        "                                self.item_vecs.shape[0]))\n",
        "        for u in range(self.user_vecs.shape[0]):\n",
        "            for i in range(self.item_vecs.shape[0]):\n",
        "                predictions[u, i] = self.predict(u, i)\n",
        "                \n",
        "        return predictions\n",
        "    \n",
        "    def calculate_learning_curve(self, iter_array, test, learning_rate=0.1):\n",
        "        \"\"\"\n",
        "        Keep track of MSE as a function of training iterations.\n",
        "        \n",
        "        Params\n",
        "        ======\n",
        "        iter_array : (list)\n",
        "            List of numbers of iterations to train for each step of \n",
        "            the learning curve. e.g. [1, 5, 10, 20]\n",
        "        test : (2D ndarray)\n",
        "            Testing dataset (assumed to be user x item).\n",
        "        \n",
        "        The function creates two new class attributes:\n",
        "        \n",
        "        train_mse : (list)\n",
        "            Training data MSE values for each value of iter_array\n",
        "        test_mse : (list)\n",
        "            Test data MSE values for each value of iter_array\n",
        "        \"\"\"\n",
        "        iter_array.sort()\n",
        "        self.train_mse =[]\n",
        "        self.test_mse = []\n",
        "        iter_diff = 0\n",
        "        for (i, n_iter) in enumerate(iter_array):\n",
        "            if self._v:\n",
        "                print ('Iteration: {}'.format(n_iter))\n",
        "            if i == 0:\n",
        "                self.train(n_iter - iter_diff, learning_rate)\n",
        "            else:\n",
        "                self.partial_train(n_iter - iter_diff)\n",
        "\n",
        "            predictions = self.predict_all()\n",
        "\n",
        "            self.train_mse += [get_mse(predictions, self.ratings)]\n",
        "            self.test_mse += [get_mse(predictions, test)]\n",
        "            if self._v:\n",
        "                print ('Train mse: ' + str(self.train_mse[-1]))\n",
        "                print ('Test mse: ' + str(self.test_mse[-1]))\n",
        "            iter_diff = n_iter"
      ],
      "execution_count": null,
      "outputs": []
    },
    {
      "cell_type": "code",
      "metadata": {
        "id": "ORVdbK-ILIih",
        "outputId": "a46e95dd-9563-4ee2-e6f6-59b435e5106a",
        "colab": {
          "base_uri": "https://localhost:8080/"
        }
      },
      "source": [
        "MF_SGD = ExplicitMF(train, 40, learning='sgd', verbose=True)\n",
        "iter_array = [1, 2, 5, 10, 25, 50, 100, 200]\n",
        "MF_SGD.calculate_learning_curve(iter_array, test, learning_rate=0.001)"
      ],
      "execution_count": null,
      "outputs": [
        {
          "output_type": "stream",
          "text": [
            "Iteration: 1\n",
            "Train mse: 1.1275288301764055\n",
            "Test mse: 1.0615356615044123\n",
            "Iteration: 2\n",
            "Train mse: 1.1014900068239446\n",
            "Test mse: 1.0521546707673812\n",
            "Iteration: 5\n",
            "Train mse: 1.0609428337379019\n",
            "Test mse: 1.0403422677892178\n",
            "Iteration: 10\n",
            "Train mse: 1.0226953108961612\n",
            "Test mse: 1.034681749867159\n",
            "Iteration: 25\n",
            "\tcurrent iteration: 10\n",
            "Train mse: 0.9524833300582668\n",
            "Test mse: 1.025692815855852\n",
            "Iteration: 50\n",
            "\tcurrent iteration: 10\n",
            "\tcurrent iteration: 20\n",
            "Train mse: 0.7418582519492081\n",
            "Test mse: 1.025124320407356\n",
            "Iteration: 100\n",
            "\tcurrent iteration: 10\n",
            "\tcurrent iteration: 20\n",
            "\tcurrent iteration: 30\n",
            "\tcurrent iteration: 40\n",
            "\tcurrent iteration: 50\n",
            "Train mse: 0.2922725401271769\n",
            "Test mse: 1.0404572938794354\n",
            "Iteration: 200\n",
            "\tcurrent iteration: 10\n",
            "\tcurrent iteration: 20\n",
            "\tcurrent iteration: 30\n",
            "\tcurrent iteration: 40\n",
            "\tcurrent iteration: 50\n",
            "\tcurrent iteration: 60\n",
            "\tcurrent iteration: 70\n",
            "\tcurrent iteration: 80\n",
            "\tcurrent iteration: 90\n",
            "\tcurrent iteration: 100\n",
            "Train mse: 0.0747613882232964\n",
            "Test mse: 1.0501398231441146\n"
          ],
          "name": "stdout"
        }
      ]
    },
    {
      "cell_type": "code",
      "metadata": {
        "id": "bo7qjQuHG9kz",
        "outputId": "6e68a6cc-50fc-4540-942e-97f0cf339344",
        "colab": {
          "base_uri": "https://localhost:8080/",
          "height": 306
        }
      },
      "source": [
        "plot_learning_curve(iter_array, MF_SGD)"
      ],
      "execution_count": null,
      "outputs": [
        {
          "output_type": "display_data",
          "data": {
            "image/png": "[encoded data removed]",
            "text/plain": [
              "<Figure size 432x288 with 1 Axes>"
            ]
          },
          "metadata": {
            "tags": []
          }
        }
      ]
    },
    {
      "cell_type": "code",
      "metadata": {
        "id": "tokd6flfLMoR",
        "outputId": "e8d6887f-86fd-4b02-c819-39ddd1fe3ffd",
        "colab": {
          "base_uri": "https://localhost:8080/"
        }
      },
      "source": [
        "iter_array = [1, 2, 5, 10, 25, 50, 100, 200]\n",
        "latent_factors = [5, 10, 20, 40, 80]\n",
        "regularizations =  [0.001, 0.01, 0.1, 1.]\n",
        "regularizations.sort()\n",
        "\n",
        "best_params = {}\n",
        "best_params['n_factors'] = latent_factors[0]\n",
        "best_params['reg'] = regularizations[0]\n",
        "best_params['n_iter'] = 0\n",
        "best_params['train_mse'] = np.inf\n",
        "best_params['test_mse'] = np.inf\n",
        "best_params['model'] = None\n",
        "\n",
        "for fact in latent_factors:\n",
        "    print ('Factors: {}'.format(fact))\n",
        "    for reg in regularizations:\n",
        "        print ('Regularization: {}'.format(reg))\n",
        "        MF_SGD = ExplicitMF(train, n_factors=fact, learning='sgd',\\\n",
        "                            user_fact_reg=reg, item_fact_reg=reg, \\\n",
        "                            user_bias_reg=reg, item_bias_reg=reg)\n",
        "        MF_SGD.calculate_learning_curve(iter_array, test, learning_rate=0.001)\n",
        "        min_idx = np.argmin(MF_SGD.test_mse)\n",
        "        if MF_SGD.test_mse[min_idx] < best_params['test_mse']:\n",
        "            best_params['n_factors'] = fact\n",
        "            best_params['reg'] = reg\n",
        "            best_params['n_iter'] = iter_array[min_idx]\n",
        "            best_params['train_mse'] = MF_SGD.train_mse[min_idx]\n",
        "            best_params['test_mse'] = MF_SGD.test_mse[min_idx]\n",
        "            best_params['model'] = MF_SGD\n",
        "            print ('New optimal hyperparameters')\n",
        "            print (pd.Series(best_params))"
      ],
      "execution_count": null,
      "outputs": [
        {
          "output_type": "stream",
          "text": [
            "Factors: 5\n",
            "Regularization: 0.001\n",
            "New optimal hyperparameters\n",
            "n_factors                                                 5\n",
            "reg                                                   0.001\n",
            "n_iter                                                   50\n",
            "train_mse                                          0.881209\n",
            "test_mse                                            1.02471\n",
            "model        <__main__.ExplicitMF object at 0x7f9145675a90>\n",
            "dtype: object\n",
            "Regularization: 0.01\n",
            "New optimal hyperparameters\n",
            "n_factors                                                 5\n",
            "reg                                                    0.01\n",
            "n_iter                                                   50\n",
            "train_mse                                          0.883964\n",
            "test_mse                                            1.02224\n",
            "model        <__main__.ExplicitMF object at 0x7f9163a1feb8>\n",
            "dtype: object\n",
            "Regularization: 0.1\n",
            "New optimal hyperparameters\n",
            "n_factors                                                 5\n",
            "reg                                                     0.1\n",
            "n_iter                                                  100\n",
            "train_mse                                          0.812731\n",
            "test_mse                                            1.01661\n",
            "model        <__main__.ExplicitMF object at 0x7f9145675a90>\n",
            "dtype: object\n",
            "Regularization: 1.0\n",
            "Factors: 10\n",
            "Regularization: 0.001\n",
            "Regularization: 0.01\n",
            "Regularization: 0.1\n",
            "New optimal hyperparameters\n",
            "n_factors                                                10\n",
            "reg                                                     0.1\n",
            "n_iter                                                  200\n",
            "train_mse                                          0.710533\n",
            "test_mse                                            1.01494\n",
            "model        <__main__.ExplicitMF object at 0x7f9145675b38>\n",
            "dtype: object\n",
            "Regularization: 1.0\n",
            "Factors: 20\n",
            "Regularization: 0.001\n",
            "Regularization: 0.01\n",
            "Regularization: 0.1\n",
            "New optimal hyperparameters\n",
            "n_factors                                                20\n",
            "reg                                                     0.1\n",
            "n_iter                                                  200\n",
            "train_mse                                          0.717385\n",
            "test_mse                                            1.01333\n",
            "model        <__main__.ExplicitMF object at 0x7f9145675b00>\n",
            "dtype: object\n",
            "Regularization: 1.0\n",
            "Factors: 40\n",
            "Regularization: 0.001\n",
            "Regularization: 0.01\n",
            "Regularization: 0.1\n",
            "Regularization: 1.0\n",
            "Factors: 80\n",
            "Regularization: 0.001\n",
            "Regularization: 0.01\n",
            "New optimal hyperparameters\n",
            "n_factors                                                80\n",
            "reg                                                    0.01\n",
            "n_iter                                                  200\n",
            "train_mse                                          0.139783\n",
            "test_mse                                            1.00946\n",
            "model        <__main__.ExplicitMF object at 0x7f9163a1feb8>\n",
            "dtype: object\n",
            "Regularization: 0.1\n",
            "Regularization: 1.0\n"
          ],
          "name": "stdout"
        }
      ]
    },
    {
      "cell_type": "code",
      "metadata": {
        "id": "gzSjo1pKYmDB"
      },
      "source": [
        "best_als_model = best_params['model']\n",
        "plot_learning_curve(iter_array, best_als_model)"
      ],
      "execution_count": null,
      "outputs": []
    },
    {
      "cell_type": "code",
      "metadata": {
        "id": "h8FcKtxCQ5AP"
      },
      "source": [
        ""
      ],
      "execution_count": null,
      "outputs": []
    }
  ]
}