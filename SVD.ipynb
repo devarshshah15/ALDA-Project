{
  "nbformat": 4,
  "nbformat_minor": 0,
  "metadata": {
    "kernelspec": {
      "name": "python3",
      "display_name": "Python 3",
      "language": "python"
    },
    "language_info": {
      "name": "python",
      "version": "3.7.6",
      "mimetype": "text/x-python",
      "codemirror_mode": {
        "name": "ipython",
        "version": 3
      },
      "pygments_lexer": "ipython3",
      "nbconvert_exporter": "python",
      "file_extension": ".py"
    },
    "colab": {
      "name": "svd.ipynb",
      "provenance": [],
      "collapsed_sections": []
    }
  },
  "cells": [
    {
      "cell_type": "code",
      "metadata": {
        "_uuid": "d629ff2d2480ee46fbb7e2d37f6b5fab8052498a",
        "_cell_guid": "79c7e3d0-c299-4dcb-8224-4455121ee9b0",
        "trusted": true,
        "id": "FjTXoh9HaR0c"
      },
      "source": [
        "# Using file 1\n",
        "df = pd.read_csv('combined_data_1.txt', header = None, names = ['Cust_Id', 'Rating', 'Date'], usecols = [0,1,2])"
      ],
      "execution_count": null,
      "outputs": []
    },
    {
      "cell_type": "code",
      "metadata": {
        "trusted": true,
        "id": "5MsdjR17aR0k"
      },
      "source": [
        "### appending new column movie_id to current dataset\n",
        "df_nan = pd.DataFrame(pd.isnull(df.Rating))\n",
        "df_nan = df_nan[df_nan['Rating'] == True]\n",
        "df_nan = df_nan.reset_index()\n",
        "\n",
        "movie_np,movie_id = [],1\n",
        "\n",
        "\n",
        "for i,j in zip(df_nan['index'][1:],df_nan['index'][:-1]):\n",
        "    temp = np.full((1,i-j-1), movie_id)\n",
        "    movie_np = np.append(movie_np, temp)\n",
        "    movie_id += 1\n",
        "\n",
        "last_record = np.full((1,len(df) - df_nan.iloc[-1, 0] - 1),movie_id)\n",
        "movie_np = np.append(movie_np, last_record)\n",
        "\n"
      ],
      "execution_count": null,
      "outputs": []
    },
    {
      "cell_type": "code",
      "metadata": {
        "trusted": true,
        "id": "6cqmTSg3aR0r"
      },
      "source": [
        "df= df[pd.notnull(df['Rating'])]\n",
        "\n",
        "df['Movie_Id'] = movie_np.astype(int)\n",
        "df['Cust_Id'] = df['Cust_Id'].astype(int)\n"
      ],
      "execution_count": null,
      "outputs": []
    },
    {
      "cell_type": "code",
      "metadata": {
        "trusted": true,
        "id": "_jqVkPNSaR00",
        "outputId": "faa881d7-bab3-49b5-b768-c432870df422"
      },
      "source": [
        "df.head()  ### final data set with movie_id column"
      ],
      "execution_count": null,
      "outputs": [
        {
          "output_type": "execute_result",
          "data": {
            "text/plain": [
              "   Cust_Id  Rating        Date  Movie_Id\n",
              "1  1488844     3.0  2005-09-06         1\n",
              "2   822109     5.0  2005-05-13         1\n",
              "3   885013     4.0  2005-10-19         1\n",
              "4    30878     4.0  2005-12-26         1\n",
              "5   823519     3.0  2004-05-03         1"
            ],
            "text/html": [
              "<div>\n",
              "<style scoped>\n",
              "    .dataframe tbody tr th:only-of-type {\n",
              "        vertical-align: middle;\n",
              "    }\n",
              "\n",
              "    .dataframe tbody tr th {\n",
              "        vertical-align: top;\n",
              "    }\n",
              "\n",
              "    .dataframe thead th {\n",
              "        text-align: right;\n",
              "    }\n",
              "</style>\n",
              "<table border=\"1\" class=\"dataframe\">\n",
              "  <thead>\n",
              "    <tr style=\"text-align: right;\">\n",
              "      <th></th>\n",
              "      <th>Cust_Id</th>\n",
              "      <th>Rating</th>\n",
              "      <th>Date</th>\n",
              "      <th>Movie_Id</th>\n",
              "    </tr>\n",
              "  </thead>\n",
              "  <tbody>\n",
              "    <tr>\n",
              "      <th>1</th>\n",
              "      <td>1488844</td>\n",
              "      <td>3.0</td>\n",
              "      <td>2005-09-06</td>\n",
              "      <td>1</td>\n",
              "    </tr>\n",
              "    <tr>\n",
              "      <th>2</th>\n",
              "      <td>822109</td>\n",
              "      <td>5.0</td>\n",
              "      <td>2005-05-13</td>\n",
              "      <td>1</td>\n",
              "    </tr>\n",
              "    <tr>\n",
              "      <th>3</th>\n",
              "      <td>885013</td>\n",
              "      <td>4.0</td>\n",
              "      <td>2005-10-19</td>\n",
              "      <td>1</td>\n",
              "    </tr>\n",
              "    <tr>\n",
              "      <th>4</th>\n",
              "      <td>30878</td>\n",
              "      <td>4.0</td>\n",
              "      <td>2005-12-26</td>\n",
              "      <td>1</td>\n",
              "    </tr>\n",
              "    <tr>\n",
              "      <th>5</th>\n",
              "      <td>823519</td>\n",
              "      <td>3.0</td>\n",
              "      <td>2004-05-03</td>\n",
              "      <td>1</td>\n",
              "    </tr>\n",
              "  </tbody>\n",
              "</table>\n",
              "</div>"
            ]
          },
          "metadata": {
            "tags": []
          },
          "execution_count": 5
        }
      ]
    },
    {
      "cell_type": "code",
      "metadata": {
        "trusted": true,
        "id": "VSBknRhhaR1C"
      },
      "source": [
        "## sort on base of date\n",
        "sorted_date = df.sort_values('Date')\n"
      ],
      "execution_count": null,
      "outputs": []
    },
    {
      "cell_type": "code",
      "metadata": {
        "trusted": true,
        "id": "LHCfmN9vaR1J",
        "outputId": "985fbc1a-ca78-4fd7-e749-eebc81c2c9f7"
      },
      "source": [
        "sorted_date.head()"
      ],
      "execution_count": null,
      "outputs": [
        {
          "output_type": "execute_result",
          "data": {
            "text/plain": [
              "          Cust_Id  Rating        Date  Movie_Id\n",
              "9057969    510180     5.0  1999-11-11      1798\n",
              "14895543   510180     3.0  1999-11-11      2866\n",
              "19589582   510180     4.0  1999-11-11      3730\n",
              "20397788   510180     2.0  1999-11-11      3870\n",
              "6902840    510180     5.0  1999-11-11      1367"
            ],
            "text/html": [
              "<div>\n",
              "<style scoped>\n",
              "    .dataframe tbody tr th:only-of-type {\n",
              "        vertical-align: middle;\n",
              "    }\n",
              "\n",
              "    .dataframe tbody tr th {\n",
              "        vertical-align: top;\n",
              "    }\n",
              "\n",
              "    .dataframe thead th {\n",
              "        text-align: right;\n",
              "    }\n",
              "</style>\n",
              "<table border=\"1\" class=\"dataframe\">\n",
              "  <thead>\n",
              "    <tr style=\"text-align: right;\">\n",
              "      <th></th>\n",
              "      <th>Cust_Id</th>\n",
              "      <th>Rating</th>\n",
              "      <th>Date</th>\n",
              "      <th>Movie_Id</th>\n",
              "    </tr>\n",
              "  </thead>\n",
              "  <tbody>\n",
              "    <tr>\n",
              "      <th>9057969</th>\n",
              "      <td>510180</td>\n",
              "      <td>5.0</td>\n",
              "      <td>1999-11-11</td>\n",
              "      <td>1798</td>\n",
              "    </tr>\n",
              "    <tr>\n",
              "      <th>14895543</th>\n",
              "      <td>510180</td>\n",
              "      <td>3.0</td>\n",
              "      <td>1999-11-11</td>\n",
              "      <td>2866</td>\n",
              "    </tr>\n",
              "    <tr>\n",
              "      <th>19589582</th>\n",
              "      <td>510180</td>\n",
              "      <td>4.0</td>\n",
              "      <td>1999-11-11</td>\n",
              "      <td>3730</td>\n",
              "    </tr>\n",
              "    <tr>\n",
              "      <th>20397788</th>\n",
              "      <td>510180</td>\n",
              "      <td>2.0</td>\n",
              "      <td>1999-11-11</td>\n",
              "      <td>3870</td>\n",
              "    </tr>\n",
              "    <tr>\n",
              "      <th>6902840</th>\n",
              "      <td>510180</td>\n",
              "      <td>5.0</td>\n",
              "      <td>1999-11-11</td>\n",
              "      <td>1367</td>\n",
              "    </tr>\n",
              "  </tbody>\n",
              "</table>\n",
              "</div>"
            ]
          },
          "metadata": {
            "tags": []
          },
          "execution_count": 8
        }
      ]
    },
    {
      "cell_type": "code",
      "metadata": {
        "trusted": true,
        "id": "lhQgMaDcaR1V"
      },
      "source": [
        "length = sorted_date.shape[0]\n",
        "\n",
        "train_size = int(length*0.93)  ### bcz of RAM issue\n",
        "test_size = int(length*0.07)"
      ],
      "execution_count": null,
      "outputs": []
    },
    {
      "cell_type": "code",
      "metadata": {
        "trusted": true,
        "id": "oWfOmptaaR1c",
        "outputId": "58dd1c59-904b-42d4-e33c-1543b975b080"
      },
      "source": [
        "print(test_size, length)"
      ],
      "execution_count": null,
      "outputs": [
        {
          "output_type": "stream",
          "text": [
            "1683763 24053764\n"
          ],
          "name": "stdout"
        }
      ]
    },
    {
      "cell_type": "code",
      "metadata": {
        "trusted": true,
        "id": "2p9LpZRIaR1j",
        "outputId": "336f1ab1-2a97-41ce-e904-53318d45538a"
      },
      "source": [
        "train_data = sorted_date.iloc[:test_size]  ### change it to train size\n",
        "test_data = sorted_date.iloc[train_size+1300000:]\n",
        "print(train_data.shape)\n",
        "print(test_data.shape)\n"
      ],
      "execution_count": null,
      "outputs": [
        {
          "output_type": "stream",
          "text": [
            "(1683763, 4)\n",
            "(383764, 4)\n"
          ],
          "name": "stdout"
        }
      ]
    },
    {
      "cell_type": "code",
      "metadata": {
        "trusted": true,
        "id": "jHkg6GSbaR1p"
      },
      "source": [
        "### drop date in both data\n",
        "del train_data['Date']\n",
        "del test_data['Date']"
      ],
      "execution_count": null,
      "outputs": []
    },
    {
      "cell_type": "code",
      "metadata": {
        "trusted": true,
        "id": "6v1ozspWaR1u"
      },
      "source": [
        "test_data = test_data[[\"Cust_Id\", \"Movie_Id\", \"Rating\"]]\n",
        "train_data = train_data[[\"Cust_Id\", \"Movie_Id\", \"Rating\"]]\n"
      ],
      "execution_count": null,
      "outputs": []
    },
    {
      "cell_type": "code",
      "metadata": {
        "trusted": true,
        "id": "xzBy4U1UaR1z"
      },
      "source": [
        "from scipy.linalg import sqrtm\n",
        "def create_utility_matrix(data, formatizer = {'user':0, 'item': 1, 'value': 2}):\n",
        "    \"\"\"\n",
        "        :param data:      Array-like, 2D, nx3\n",
        "        :param formatizer:pass the formatizer\n",
        "        :return:          utility matrix (n x m), n=users, m=items\n",
        "    \"\"\"\n",
        "        \n",
        "    itemField = formatizer['item']\n",
        "    userField = formatizer['user']\n",
        "    valueField = formatizer['value']\n",
        "    userList = data.iloc[:,userField].tolist()\n",
        "    itemList = data.iloc[:,itemField].tolist()\n",
        "    valueList = data.iloc[:,valueField].tolist()\n",
        "    users = list(set(data.iloc[:,userField]))\n",
        "    items = list(set(data.iloc[:,itemField]))\n",
        "    users_index = {users[i]: i for i in range(len(users))}\n",
        "    pd_dict = {item: [np.nan for i in range(len(users))] for item in items}\n",
        "    for i in range(0,len(data)):\n",
        "        item = itemList[i]\n",
        "        user = userList[i]\n",
        "        value = valueList[i]\n",
        "    pd_dict[item][users_index[user]] = value\n",
        "    X = pd.DataFrame(pd_dict)\n",
        "    X.index = users\n",
        "        \n",
        "    itemcols = list(X.columns)\n",
        "    items_index = {itemcols[i]: i for i in range(len(itemcols))}\n",
        "    # users_index gives us a mapping of user_id to index of user\n",
        "    # items_index provides the same for items\n",
        "    return X, users_index, items_index"
      ],
      "execution_count": null,
      "outputs": []
    },
    {
      "cell_type": "code",
      "metadata": {
        "trusted": true,
        "id": "9FcBt2sUaR16"
      },
      "source": [
        "def svd(train, k):\n",
        "    utilMat = np.array(train)\n",
        "    # the nan or unavailable entries are masked\n",
        "    mask = np.isnan(utilMat)\n",
        "    masked_arr = np.ma.masked_array(utilMat, mask)\n",
        "    item_means = np.mean(masked_arr, axis=0)\n",
        "    # nan entries will replaced by the average rating for each item\n",
        "    utilMat = masked_arr.filled(item_means)\n",
        "    x = np.tile(item_means, (utilMat.shape[0],1))\n",
        "    # we remove the per item average from all entries.\n",
        "    # the above mentioned nan entries will be essentially zero now\n",
        "    utilMat = utilMat - x\n",
        "    # The magic happens here. U and V are user and item features\n",
        "    U, s, V=np.linalg.svd(utilMat, full_matrices=False)\n",
        "    s=np.diag(s)\n",
        "    # we take only the k most significant features\n",
        "    s=s[0:k,0:k]\n",
        "    U=U[:,0:k]\n",
        "    V=V[0:k,:]\n",
        "    s_root=sqrtm(s)\n",
        "    Usk=np.dot(U,s_root)\n",
        "    skV=np.dot(s_root,V)\n",
        "    UsV = np.dot(Usk, skV)\n",
        "    UsV = UsV + x\n",
        "    print(\"svd done\")\n",
        "    return UsV"
      ],
      "execution_count": null,
      "outputs": []
    },
    {
      "cell_type": "code",
      "metadata": {
        "trusted": true,
        "id": "7QdtWVxIaR2B"
      },
      "source": [
        "def rmse(true, pred):\n",
        "    # this will be used towards the end\n",
        "    x = true - pred\n",
        "    return sum([xi*xi for xi in x])/len(x)\n",
        "# to test the performance over a different number of features\n",
        "no_of_features = [8]#,10,12,14,17]\n",
        "utilMat, users_index, items_index = create_utility_matrix(train_data)\n",
        "error_sum = 0\n",
        "leng = 0\n",
        "for f in no_of_features: \n",
        "    svdout = svd(utilMat, k=f)\n",
        "    pred = [] #to store the predicted ratings\n",
        "    for _,row in test_data.iterrows():\n",
        "        user = row['Cust_Id']\n",
        "        item = row['Movie_Id']\n",
        "        try:\n",
        "            pred_rating = 0\n",
        "            u_index = users_index[int(user)]\n",
        "            if item in items_index:\n",
        "                i_index = items_index[item]\n",
        "                pred_rating = svdout[u_index, i_index][0]\n",
        "            else:\n",
        "                pred_rating = np.mean(svdout[u_index, :])\n",
        "            #pred.append(pred_rating)\n",
        "            error_sum += (row[\"Rating\"] - pred_rating)**2\n",
        "            leng+=1\n",
        "            #print(row[\"Rating\"], pred_rating, (row[\"Rating\"] - pred_rating)**2)\n",
        "        except:\n",
        "            pass\n",
        "#print(rmse(test_data['Rating'], pred))"
      ],
      "execution_count": null,
      "outputs": []
    },
    {
      "cell_type": "code",
      "metadata": {
        "trusted": true,
        "id": "ORnl4z28aR2I"
      },
      "source": [
        "import math\n",
        "math.sqrt(error_sum/leng)"
      ],
      "execution_count": null,
      "outputs": []
    },
    {
      "cell_type": "code",
      "metadata": {
        "trusted": true,
        "id": "vLTDrLoQaR2O"
      },
      "source": [
        ""
      ],
      "execution_count": null,
      "outputs": []
    }
  ]
}